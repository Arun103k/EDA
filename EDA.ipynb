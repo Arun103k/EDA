{
 "cells": [
  {
   "cell_type": "code",
   "execution_count": 1,
   "id": "6c17df45-39cd-45c3-ae6e-bb58d4539730",
   "metadata": {},
   "outputs": [],
   "source": [
    "%matplotlib inline"
   ]
  },
  {
   "cell_type": "code",
   "execution_count": 2,
   "id": "f3e0e518-49e4-4f3b-a181-fb82d98cf868",
   "metadata": {},
   "outputs": [
    {
     "name": "stderr",
     "output_type": "stream",
     "text": [
      "  % Total    % Received % Xferd  Average Speed   Time    Time     Time  Current\n",
      "                                 Dload  Upload   Total   Spent    Left  Speed\n",
      "\n",
      "  0     0    0     0    0     0      0      0 --:--:-- --:--:-- --:--:--     0\n",
      "  0 54288    0     0    0     0      0      0 --:--:-- --:--:-- --:--:--     0\n",
      "100 54288  100 54288    0     0  77810      0 --:--:-- --:--:-- --:--:-- 78112\n"
     ]
    },
    {
     "ename": "NameError",
     "evalue": "name 'insurance' is not defined",
     "output_type": "error",
     "traceback": [
      "\u001b[1;31m---------------------------------------------------------------------------\u001b[0m",
      "\u001b[1;31mNameError\u001b[0m                                 Traceback (most recent call last)",
      "Cell \u001b[1;32mIn[2], line 2\u001b[0m\n\u001b[0;32m      1\u001b[0m get_ipython()\u001b[38;5;241m.\u001b[39msystem(\u001b[38;5;124m'\u001b[39m\u001b[38;5;124mcurl -o insurance.csv https://raw.githubusercontent.com/Arun103k/Machine-Learning-with-R-datasets/master/insurance.csv\u001b[39m\u001b[38;5;124m'\u001b[39m)\n\u001b[1;32m----> 2\u001b[0m \u001b[43minsurance\u001b[49m\u001b[38;5;241m.\u001b[39mcsv\n",
      "\u001b[1;31mNameError\u001b[0m: name 'insurance' is not defined"
     ]
    }
   ],
   "source": [
    "!curl -o insurance.csv https://raw.githubusercontent.com/Arun103k/Machine-Learning-with-R-datasets/master/insurance.csv\n",
    "insurance.csv"
   ]
  },
  {
   "cell_type": "code",
   "execution_count": 3,
   "id": "e9f796a4-2867-447e-8853-232dc7c477d9",
   "metadata": {},
   "outputs": [],
   "source": [
    "import numpy as np # The pyhton numerical algebra package"
   ]
  },
  {
   "cell_type": "code",
   "execution_count": 4,
   "id": "bc39029c-914d-490d-84ed-e1e8d1680799",
   "metadata": {},
   "outputs": [],
   "source": [
    "import pandas as pd # For working with data frames"
   ]
  },
  {
   "cell_type": "code",
   "execution_count": 5,
   "id": "85586c5d-7a51-4e87-a8db-6f9e805eace7",
   "metadata": {},
   "outputs": [],
   "source": [
    "from matplotlib import pyplot as plt # For plotting"
   ]
  },
  {
   "cell_type": "code",
   "execution_count": 6,
   "id": "8a5971aa-014c-4334-843b-ca16f986e9ea",
   "metadata": {},
   "outputs": [],
   "source": [
    "import seaborn as sns # Another package for plotting"
   ]
  },
  {
   "cell_type": "code",
   "execution_count": 7,
   "id": "58708625-372e-4b11-835b-16db56b16410",
   "metadata": {},
   "outputs": [
    {
     "ename": "ModuleNotFoundError",
     "evalue": "No module named 'statsmodels'",
     "output_type": "error",
     "traceback": [
      "\u001b[1;31m---------------------------------------------------------------------------\u001b[0m",
      "\u001b[1;31mModuleNotFoundError\u001b[0m                       Traceback (most recent call last)",
      "Cell \u001b[1;32mIn[7], line 1\u001b[0m\n\u001b[1;32m----> 1\u001b[0m \u001b[38;5;28;01mimport\u001b[39;00m \u001b[38;5;21;01mstatsmodels\u001b[39;00m\u001b[38;5;21;01m.\u001b[39;00m\u001b[38;5;21;01mapi\u001b[39;00m \u001b[38;5;28;01mas\u001b[39;00m \u001b[38;5;21;01msm\u001b[39;00m \u001b[38;5;66;03m# Package for statistical model\u001b[39;00m\n",
      "\u001b[1;31mModuleNotFoundError\u001b[0m: No module named 'statsmodels'"
     ]
    }
   ],
   "source": [
    "import statsmodels.api as sm # Package for statistical model"
   ]
  },
  {
   "cell_type": "code",
   "execution_count": null,
   "id": "28e7de41-9f0c-48fc-b6d8-64bd154fd63b",
   "metadata": {},
   "outputs": [],
   "source": []
  }
 ],
 "metadata": {
  "kernelspec": {
   "display_name": "Python 3 (ipykernel)",
   "language": "python",
   "name": "python3"
  },
  "language_info": {
   "codemirror_mode": {
    "name": "ipython",
    "version": 3
   },
   "file_extension": ".py",
   "mimetype": "text/x-python",
   "name": "python",
   "nbconvert_exporter": "python",
   "pygments_lexer": "ipython3",
   "version": "3.12.3"
  }
 },
 "nbformat": 4,
 "nbformat_minor": 5
}
